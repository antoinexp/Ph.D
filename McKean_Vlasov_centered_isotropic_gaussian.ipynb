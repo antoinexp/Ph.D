{
  "nbformat": 4,
  "nbformat_minor": 0,
  "metadata": {
    "colab": {
      "name": "McKean Vlasov - centered isotropic gaussian.ipynb",
      "provenance": [],
      "authorship_tag": "ABX9TyPOBSA9kX/r4NTM/6s4DmHK",
      "include_colab_link": true
    },
    "kernelspec": {
      "name": "python3",
      "display_name": "Python 3"
    }
  },
  "cells": [
    {
      "cell_type": "markdown",
      "metadata": {
        "id": "view-in-github",
        "colab_type": "text"
      },
      "source": [
        "<a href=\"https://colab.research.google.com/github/antoinexp/Ph.D/blob/master/McKean_Vlasov_centered_isotropic_gaussian.ipynb\" target=\"_parent\"><img src=\"https://colab.research.google.com/assets/colab-badge.svg\" alt=\"Open In Colab\"/></a>"
      ]
    },
    {
      "cell_type": "code",
      "metadata": {
        "id": "Lj2A6qymPwu7",
        "colab_type": "code",
        "colab": {}
      },
      "source": [
        "%matplotlib inline\n",
        "import matplotlib.pyplot as plt\n",
        "import scipy as sp\n",
        "import numpy as np\n",
        "import pandas as pd\n",
        "from IPython.display import display\n",
        "from IPython.display import clear_output\n",
        "import tensorflow as tf\n",
        "import tensorflow_probability as tfp\n",
        "import itertools\n",
        "import seaborn as sns\n",
        "import scipy.integrate as integrate\n",
        "from scipy.special import gamma"
      ],
      "execution_count": null,
      "outputs": []
    },
    {
      "cell_type": "code",
      "metadata": {
        "id": "Wr7096KhP3yB",
        "colab_type": "code",
        "colab": {}
      },
      "source": [
        "class Initializer:\n",
        "  class normal:\n",
        "    def __call__(self, shape): return tf.random.normal(shape)\n",
        "\n",
        "  class spherical:\n",
        "    def __call__(self, shape):\n",
        "      X = tf.random.normal(shape)\n",
        "      return tf.math.l2_normalize(X, axis=1)"
      ],
      "execution_count": null,
      "outputs": []
    },
    {
      "cell_type": "code",
      "metadata": {
        "id": "-lJKAHB6P8eB",
        "colab_type": "code",
        "colab": {}
      },
      "source": [
        "Bernoulli = tfp.distributions.Bernoulli(probs=0.5, dtype=\"float32\")"
      ],
      "execution_count": null,
      "outputs": []
    },
    {
      "cell_type": "code",
      "metadata": {
        "id": "WrCq6nI9P_EM",
        "colab_type": "code",
        "colab": {}
      },
      "source": [
        "class ModelCGI(object):\n",
        "  def __init__(self, N, n, d, delta=0.1, n_test=None, \n",
        "               _lambda_a=1., \n",
        "               _lambda_theta=1., \n",
        "               _lambda_reg=0.1,\n",
        "               _beta_a=1., \n",
        "               _beta_theta=1.,\n",
        "               activation=\"linear\"):\n",
        "    self._lambda_a = _lambda_a\n",
        "    self._lambda_theta = _lambda_theta\n",
        "    self._beta_a = _beta_a\n",
        "    self._beta_theta = _beta_theta\n",
        "    if type(activation) == str:\n",
        "      self.activation = tf.keras.layers.Activation(activation).activation\n",
        "    else:\n",
        "      self.activation = activation\n",
        "    self._lambda_reg = _lambda_reg\n",
        "\n",
        "    self._N = N\n",
        "    self._n = n\n",
        "    self._d = d\n",
        "\n",
        "    self._a = tf.Variable((1/self._N)*tf.ones((self._N,)))\n",
        "    #self._a = tf.Variable((1/self._N**0.5)*tf.random.normal((1,self._N))[0])\n",
        "    self._theta = tf.Variable( (0.8/d**0.5)*tf.random.normal((self._N,d)) )\n",
        "    #self._a = tf.Variable((1/self._N)*tf.random.uniform((1,self._N), -(3.)**0.5, (3.)**0.5)[0])\n",
        "    #self._theta = tf.Variable(tf.random.uniform((self._N,d), -(3.)**0.5, (3.)**0.5))\n",
        "\n",
        "    self.Y_train = 2*Bernoulli.sample((n,)) - 1\n",
        "    self.xi = tf.random.normal((n,d))\n",
        "    self.X_train = tf.reshape((tf.ones(n)+self.Y_train*delta), (-1,1))*self.xi\n",
        "    \n",
        "    if not n_test: n_test = n\n",
        "    self._n_test = n_test\n",
        "\n",
        "    self.Y_test = 2*Bernoulli.sample((n_test,))-1\n",
        "    self.xi = tf.random.normal((n_test,d))\n",
        "    self.X_test = tf.reshape((tf.ones(n_test)+self.Y_test*delta), (-1,1))*self.xi\n",
        "\n",
        "\n",
        "  @tf.function\n",
        "  def __call__(self, X):\n",
        "    d = X.shape[1]\n",
        "    W = tf.tensordot(X, tf.transpose(self._theta), 1)\n",
        "    Z = self.activation(W)\n",
        "    return tf.tensordot(Z, self._a, 1)\n",
        "\n",
        "  @tf.function\n",
        "  def R(self, X, Y, n=None):\n",
        "    error = Y - self(X)\n",
        "    if not n: n = self._n\n",
        "    reg = (self._N/self._d)*self._lambda_reg*(tf.norm(self._a)**2.)\n",
        "    return (1./n)*tf.norm(error)**2. + reg\n",
        "\n",
        "  def R_train(self):\n",
        "    return self.R(self.X_train, self.Y_train, n=self._n)\n",
        "\n",
        "  def R_test(self):\n",
        "    return self.R(self.X_test, self.Y_test, n=self._n_test)\n",
        "\n",
        "\n",
        "  @tf.function\n",
        "  def learn(self, dt=0.1):\n",
        "    R = self.R(self.X_train, self.Y_train)\n",
        "    grad_a = tf.gradients(R, self._a)[0]\n",
        "    grad_theta = tf.gradients(R, self._theta)[0]\n",
        "\n",
        "    dW_a = tf.random.normal((self._N,))\n",
        "    dW_theta = tf.random.normal((self._N,self._d))\n",
        "\n",
        "    d_a = ((-1./self._lambda_a)*grad_a*dt + \n",
        "      ((2./(self._lambda_a*self._beta_a))**0.5)*(dt**0.5)*dW_a)\n",
        "    d_theta = ((-1./self._lambda_theta)*grad_theta*dt + \n",
        "        ((2./(self._lambda_theta*self._beta_theta))**0.5)*(dt**0.5)*dW_theta)\n",
        "\n",
        "    self._a.assign_add(d_a)\n",
        "    self._theta.assign_add(d_theta)\n",
        "\n",
        "    return self.R_train()\n",
        "\n",
        "  @tf.function\n",
        "  def learn_steps(self, dt=0.1, steps=10):\n",
        "    res = 0.\n",
        "    for _ in tf.range(steps):\n",
        "      res = self.learn(dt)\n",
        "    return res\n",
        "\n",
        "  def learn_epochs(self, dt=0.1, steps=10, epochs=10, callback=None):\n",
        "    history = []\n",
        "    for epoch in range(epochs):\n",
        "      history.append({\n",
        "          \"epoch\": epoch,\n",
        "          \"step\": epoch*steps,\n",
        "          \"t\": epoch*steps*dt,\n",
        "          \"mse_train\": self.R_train().numpy(),\n",
        "          \"mse_test\": self.R_test().numpy(),\n",
        "      })\n",
        "      if epoch<epochs-1:\n",
        "        self.learn_steps(dt, steps)\n",
        "    return pd.DataFrame(history).set_index(\"t\")"
      ],
      "execution_count": null,
      "outputs": []
    },
    {
      "cell_type": "code",
      "metadata": {
        "id": "O1zVFrSqjMWK",
        "colab_type": "code",
        "colab": {}
      },
      "source": [
        "def activation(t):\n",
        "  t1,t2 = 0.5, 1.5\n",
        "  s1,s2 = -2.5, 7.5\n",
        "  t0 = tf.math.minimum(tf.math.maximum(t, t1), t2)\n",
        "  return (s2-s1)*(t0-t1)/(t2-t1) + s1"
      ],
      "execution_count": null,
      "outputs": []
    },
    {
      "cell_type": "code",
      "metadata": {
        "id": "DIr2T-DmQATQ",
        "colab_type": "code",
        "colab": {}
      },
      "source": [
        "config=dict(\n",
        "    activation = activation\n",
        "    ,\n",
        "    _lambda_a=1e10 #@param {type:\"number\"}\n",
        "    , \n",
        "    _lambda_theta=1 #@param {type:\"number\"}\n",
        "    ,\n",
        "    _beta_a=1e10 #@param {type:\"number\"}\n",
        "    ,\n",
        "    _beta_theta=1e10 #@param {type:\"number\"}\n",
        "    , \n",
        "    _lambda_reg=0. #@param {type:\"number\"}\n",
        "    ,\n",
        "\n",
        "    N=800 #@param {type:\"slider\", min:0, max:4000, step:1}\n",
        "    ,\n",
        "    n=1000 #@param {type:\"slider\", min:0, max:4000, step:1}\n",
        "    , \n",
        "    d=40 #@param {type:\"slider\", min:0, max:4000, step:1}\n",
        "    ,\n",
        "    n_test=1000 #@param {type:\"slider\", min:0, max:4000, step:1}\n",
        "       \n",
        ")\n",
        "\n",
        "runtime_parameters=dict(\n",
        "    dt = 1.0\n",
        "    ,\n",
        "    steps=100 #@param {type:\"number\"}\n",
        "    ,\n",
        "    epochs=150 #@param {type:\"number\"}\n",
        ")"
      ],
      "execution_count": null,
      "outputs": []
    },
    {
      "cell_type": "code",
      "metadata": {
        "id": "jjFYKJIVQHRK",
        "colab_type": "code",
        "colab": {}
      },
      "source": [
        "model = ModelCGI(**config, delta=0.8)\n"
      ],
      "execution_count": null,
      "outputs": []
    },
    {
      "cell_type": "code",
      "metadata": {
        "id": "7FwUhCK3QJIE",
        "colab_type": "code",
        "colab": {}
      },
      "source": [
        "history = model.learn_epochs(**runtime_parameters)\n"
      ],
      "execution_count": null,
      "outputs": []
    },
    {
      "cell_type": "code",
      "metadata": {
        "id": "mq3zC_7AQL97",
        "colab_type": "code",
        "colab": {
          "base_uri": "https://localhost:8080/",
          "height": 296
        },
        "outputId": "53e56af0-d3aa-44b9-f821-402b814574aa"
      },
      "source": [
        "history[[\"mse_train\", \"mse_test\"]].plot()"
      ],
      "execution_count": null,
      "outputs": [
        {
          "output_type": "execute_result",
          "data": {
            "text/plain": [
              "<matplotlib.axes._subplots.AxesSubplot at 0x7ff2347e0b70>"
            ]
          },
          "metadata": {
            "tags": []
          },
          "execution_count": 126
        },
        {
          "output_type": "display_data",
          "data": {
            "image/png": "[encoded data removed]",
            "text/plain": [
              "<Figure size 432x288 with 1 Axes>"
            ]
          },
          "metadata": {
            "tags": [],
            "needs_background": "light"
          }
        }
      ]
    },
    {
      "cell_type": "code",
      "metadata": {
        "id": "q-aOlnIVQNqx",
        "colab_type": "code",
        "colab": {}
      },
      "source": [
        "v = tf.norm(model._theta, axis=1).numpy()"
      ],
      "execution_count": null,
      "outputs": []
    },
    {
      "cell_type": "code",
      "metadata": {
        "id": "BhuPjNISQPA2",
        "colab_type": "code",
        "colab": {
          "base_uri": "https://localhost:8080/",
          "height": 265
        },
        "outputId": "775aa716-8a0d-448e-e4ce-ee9965c07bc6"
      },
      "source": [
        "plt.hist(v, bins=30)\n",
        "plt.plot()\n",
        "plt.grid()"
      ],
      "execution_count": null,
      "outputs": [
        {
          "output_type": "display_data",
          "data": {
            "image/png": "[encoded data removed]",
            "text/plain": [
              "<Figure size 432x288 with 1 Axes>"
            ]
          },
          "metadata": {
            "tags": [],
            "needs_background": "light"
          }
        }
      ]
    },
    {
      "cell_type": "code",
      "metadata": {
        "id": "OnuW29ajIq51",
        "colab_type": "code",
        "colab": {}
      },
      "source": [
        ""
      ],
      "execution_count": null,
      "outputs": []
    }
  ]
}