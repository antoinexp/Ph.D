{
  "nbformat": 4,
  "nbformat_minor": 0,
  "metadata": {
    "colab": {
      "name": "Spiked Wigner Model",
      "provenance": [],
      "authorship_tag": "ABX9TyMxgKcdGY6o71SS45ydoASE",
      "include_colab_link": true
    },
    "kernelspec": {
      "name": "python3",
      "display_name": "Python 3"
    },
    "accelerator": "GPU"
  },
  "cells": [
    {
      "cell_type": "markdown",
      "metadata": {
        "id": "view-in-github",
        "colab_type": "text"
      },
      "source": [
        "<a href=\"https://colab.research.google.com/github/antoinexp/Ph.D/blob/master/Spiked_Wigner_Model.ipynb\" target=\"_parent\"><img src=\"https://colab.research.google.com/assets/colab-badge.svg\" alt=\"Open In Colab\"/></a>"
      ]
    },
    {
      "cell_type": "markdown",
      "metadata": {
        "id": "TpsCPxoI_QD9",
        "colab_type": "text"
      },
      "source": [
        "# Init and Packages"
      ]
    },
    {
      "cell_type": "code",
      "metadata": {
        "id": "hxpvPvYq9qdL",
        "colab_type": "code",
        "colab": {
          "base_uri": "https://localhost:8080/",
          "height": 51
        },
        "outputId": "c39c360a-be62-42c5-d6c7-1ab76e09e5c9"
      },
      "source": [
        "#@title \n",
        "%matplotlib inline\n",
        "import matplotlib.pyplot as plt\n",
        "import scipy as sp\n",
        "import numpy as np\n",
        "import tensorflow as tf\n",
        "import tensorflow_probability as tfp\n",
        "from IPython import display\n",
        "\n",
        "print(tf.test.gpu_device_name())\n",
        "tf.device('/device:GPU:0')"
      ],
      "execution_count": 1,
      "outputs": [
        {
          "output_type": "stream",
          "text": [
            "/device:GPU:0\n"
          ],
          "name": "stdout"
        },
        {
          "output_type": "execute_result",
          "data": {
            "text/plain": [
              "<tensorflow.python.eager.context._EagerDeviceContext at 0x7f479749b080>"
            ]
          },
          "metadata": {
            "tags": []
          },
          "execution_count": 1
        }
      ]
    },
    {
      "cell_type": "markdown",
      "metadata": {
        "id": "0wWzcXrq_Vyx",
        "colab_type": "text"
      },
      "source": [
        "# Model Implemetation"
      ]
    },
    {
      "cell_type": "code",
      "metadata": {
        "id": "SrRVmRP19w83",
        "colab_type": "code",
        "colab": {}
      },
      "source": [
        "class Model(tf.Module):\n",
        "  def __init__(self, a0=0.1, N=100, _lambda=100.):\n",
        "    self._N = N\n",
        "    self._lambda = _lambda\n",
        "\n",
        "    COV = tf.constant([[1.0, a0], [a0, 1.0]])\n",
        "    A = tf.linalg.cholesky(COV)\n",
        "    Z = tf.random.normal((2,N,))\n",
        "    Z = tf.tensordot(A, Z, 1)\n",
        "    Z = (N**0.5)*tf.math.l2_normalize(Z, axis=1)\n",
        "    #print(tf.tensordot(Z, tf.transpose(Z), 1).numpy()/N)\n",
        "    self._theta_star = tf.constant(Z[0,:])\n",
        "    self._theta = tf.Variable(Z[1,:])\n",
        "\n",
        "    TMP = tf.random.normal((N,N))\n",
        "    self._Xi = tf.constant( (TMP + tf.transpose(TMP))/(2.**0.5) )\n",
        "\n",
        "  @tf.function\n",
        "  def __call__(self):\n",
        "    return tf.tensordot(self._theta, self._theta, 0)\n",
        "\n",
        "  @tf.function\n",
        "  def eigenvalues(self):\n",
        "    e, v = tf.linalg.eigh(self.Y())\n",
        "    tf.print(e)\n",
        "\n",
        "  @tf.function\n",
        "  def Y(self):\n",
        "    signal = tf.tensordot(self._theta_star, self._theta_star, 0)\n",
        "    noise = ((self._N/self._lambda)**0.5)*self._Xi\n",
        "    return signal + noise\n",
        "\n",
        "  @tf.function\n",
        "  def MSE(self):\n",
        "    error = self.Y()-self()\n",
        "    return (1./self._N**2.)*tf.norm(error)**2.\n",
        "\n",
        "  @tf.function\n",
        "  def q0(self):\n",
        "    return (1./self._N)*tf.tensordot(self._theta, self._theta_star, 1)\n",
        "\n",
        "  @tf.function\n",
        "  def learn(self, dt):\n",
        "    grad = tf.gradients(self.MSE(), self._theta)[0]\n",
        "    surfgrad = grad - (1./self._N)*tf.tensordot(grad, self._theta, 1)*self._theta\n",
        "    theta_new = self._theta - dt*self._N*(1./4.)*surfgrad\n",
        "    theta_new = (self._N**0.5)*tf.math.l2_normalize(theta_new)\n",
        "    self._theta.assign(theta_new)\n",
        "    return self.q0()\n",
        "  \n"
      ],
      "execution_count": 0,
      "outputs": []
    },
    {
      "cell_type": "markdown",
      "metadata": {
        "id": "RIUIJzlS_ai9",
        "colab_type": "text"
      },
      "source": [
        "# Experiments"
      ]
    },
    {
      "cell_type": "code",
      "metadata": {
        "id": "sk5uMtnd-VUz",
        "colab_type": "code",
        "outputId": "61a7d9e1-30ee-49f5-faf8-eeeb45d67e58",
        "cellView": "form",
        "colab": {
          "base_uri": "https://localhost:8080/",
          "height": 269
        }
      },
      "source": [
        "#@title Experiment\n",
        "_lambda = 10. #@param {type:\"number\"}\n",
        "N = 1000 #@param {type:\"integer\"}\n",
        "a0 = 0.1 #@param {type:\"number\"}\n",
        "dt=0.1 #@param {type:\"number\"}\n",
        "steps = 100 #@param {type:\"integer\"}\n",
        "N_samples = 20 #@param {type:\"integer\"}\n",
        "plt.axhline(y=np.sqrt(1-1./_lambda), color='r', linestyle='-', label=\"max theoritical\")\n",
        "plt.ylim(0,1.2)\n",
        "plt.grid(True)\n",
        "\n",
        "t = np.array([0.]*(steps+1))\n",
        "\n",
        "for _ in range(N_samples):\n",
        "  model = Model(a0=a0, N=N, _lambda=_lambda)\n",
        "  print(abs(model.q0().numpy()))\n",
        "  l = [abs(model.q0())]\n",
        "  for _ in range(steps):\n",
        "    v = model.learn(dt).numpy()\n",
        "    l.append(abs(v))\n",
        "  t += np.asarray(l)\n",
        "  plt.plot(l, \"b--\", linewidth=0.5)\n",
        "  display.clear_output(wait=True)\n",
        "  display.display(plt.gcf())\n",
        "\n",
        "t /= N_samples\n",
        "plt.plot(t, \"g\", linewidth=2)\n",
        "\n",
        "display.clear_output(wait=True)"
      ],
      "execution_count": 15,
      "outputs": [
        {
          "output_type": "display_data",
          "data": {
            "image/png": "[encoded data removed]",
            "text/plain": [
              "<Figure size 432x288 with 1 Axes>"
            ]
          },
          "metadata": {
            "tags": [],
            "needs_background": "light"
          }
        }
      ]
    },
    {
      "cell_type": "code",
      "metadata": {
        "id": "_y5YW9mWEOHS",
        "colab_type": "code",
        "colab": {}
      },
      "source": [
        ""
      ],
      "execution_count": 0,
      "outputs": []
    }
  ]
}