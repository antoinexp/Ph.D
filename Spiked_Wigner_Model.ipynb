{
  "nbformat": 4,
  "nbformat_minor": 0,
  "metadata": {
    "colab": {
      "name": "Spiked Wigner Model",
      "provenance": [],
      "authorship_tag": "ABX9TyPDKwZNO6Z152H0JEcgp1cl",
      "include_colab_link": true
    },
    "kernelspec": {
      "name": "python3",
      "display_name": "Python 3"
    }
  },
  "cells": [
    {
      "cell_type": "markdown",
      "metadata": {
        "id": "view-in-github",
        "colab_type": "text"
      },
      "source": [
        "<a href=\"https://colab.research.google.com/github/antoinexp/Ph.D/blob/master/Spiked_Wigner_Model.ipynb\" target=\"_parent\"><img src=\"https://colab.research.google.com/assets/colab-badge.svg\" alt=\"Open In Colab\"/></a>"
      ]
    },
    {
      "cell_type": "code",
      "metadata": {
        "id": "hxpvPvYq9qdL",
        "colab_type": "code",
        "colab": {}
      },
      "source": [
        "#@title \n",
        "%matplotlib inline\n",
        "import matplotlib.pyplot as plt\n",
        "import scipy as sp\n",
        "import numpy as np\n",
        "import tensorflow as tf\n",
        "#print(tf.test.gpu_device_name())\n",
        "#tf.device('/device:GPU:0')"
      ],
      "execution_count": 0,
      "outputs": []
    },
    {
      "cell_type": "code",
      "metadata": {
        "id": "8TN-FE3t9vPd",
        "colab_type": "code",
        "colab": {}
      },
      "source": [
        "class Initializer:\n",
        "  class normal:\n",
        "    def __call__(self, shape): return tf.random.normal(shape)\n",
        "\n",
        "  class spherical:\n",
        "    def __call__(self, shape):\n",
        "      X = tf.random.normal(shape)\n",
        "      return tf.math.l2_normalize(X, axis=1)"
      ],
      "execution_count": 0,
      "outputs": []
    },
    {
      "cell_type": "code",
      "metadata": {
        "id": "SrRVmRP19w83",
        "colab_type": "code",
        "colab": {}
      },
      "source": [
        "class Model(tf.Module):\n",
        "  def __init__(self, N=100, _lambda=100.,\n",
        "               initializer=Initializer.spherical()):\n",
        "    self._N = N\n",
        "    self._lambda = _lambda\n",
        "    self._theta_star = tf.Variable((N**0.5)*initializer((1,self._N))[0])\n",
        "    self._theta = tf.Variable((N**0.5)*initializer((1,self._N))[0])\n",
        "\n",
        "    TMP = Initializer.normal()((N,N))\n",
        "    self._Xi = tf.constant( (TMP + tf.transpose(TMP))/(2.**0.5) )\n",
        "\n",
        "  @tf.function\n",
        "  def __call__(self):\n",
        "    return tf.tensordot(self._theta, self._theta, 0)\n",
        "\n",
        "  @tf.function\n",
        "  def eigenvalues(self):\n",
        "    e, v = tf.linalg.eigh(self.Y())\n",
        "    tf.print(e)\n",
        "\n",
        "  @tf.function\n",
        "  def Y(self):\n",
        "    signal = tf.tensordot(self._theta_star, self._theta_star, 0)\n",
        "    noise = ((self._N/self._lambda)**0.5)*self._Xi\n",
        "    return signal + noise\n",
        "\n",
        "  @tf.function\n",
        "  def MSE(self):\n",
        "    error = self.Y()-self()\n",
        "    return (1./self._N**2.)*tf.norm(error)**2.\n",
        "\n",
        "  @tf.function\n",
        "  def q0(self):\n",
        "    return (1./self._N)*tf.tensordot(self._theta, self._theta_star, 1)\n",
        "\n",
        "  @tf.function\n",
        "  def learn(self, dt):\n",
        "    grad = tf.gradients(self.MSE(), self._theta)[0]\n",
        "    surfgrad = grad - (1./self._N)*tf.tensordot(grad, self._theta, 1)*self._theta\n",
        "    theta_new = self._theta - dt*self._N*(1./4.)*surfgrad\n",
        "    theta_new = (self._N**0.5)*tf.math.l2_normalize(theta_new)\n",
        "    self._theta.assign(theta_new)\n",
        "    return self.q0()\n",
        "  \n"
      ],
      "execution_count": 0,
      "outputs": []
    },
    {
      "cell_type": "code",
      "metadata": {
        "id": "Lo8G7Qho-UT8",
        "colab_type": "code",
        "colab": {
          "base_uri": "https://localhost:8080/",
          "height": 34
        },
        "outputId": "1141c27c-2d2d-4de9-aec0-f2015beee7d3"
      },
      "source": [
        "_lambda = 1.5\n",
        "model = Model(N=1000, _lambda=_lambda)\n",
        "np.sqrt(1-1/_lambda)"
      ],
      "execution_count": 57,
      "outputs": [
        {
          "output_type": "execute_result",
          "data": {
            "text/plain": [
              "0.5773502691896258"
            ]
          },
          "metadata": {
            "tags": []
          },
          "execution_count": 57
        }
      ]
    },
    {
      "cell_type": "code",
      "metadata": {
        "id": "sk5uMtnd-VUz",
        "colab_type": "code",
        "outputId": "13ee165e-c569-435d-e1a5-aff4a92b148e",
        "colab": {
          "base_uri": "https://localhost:8080/",
          "height": 286
        }
      },
      "source": [
        "l = []\n",
        "for _ in range(5000):\n",
        "  v = model.learn(0.02).numpy()\n",
        "  l.append(abs(v))\n",
        "plt.ylim(0,1.2)\n",
        "plt.plot(l)\n",
        "plt.grid(True)\n",
        "print(l[-1])"
      ],
      "execution_count": 58,
      "outputs": [
        {
          "output_type": "stream",
          "text": [
            "0.6412409\n"
          ],
          "name": "stdout"
        },
        {
          "output_type": "display_data",
          "data": {
            "image/png": "[encoded data removed]",
            "text/plain": [
              "<Figure size 432x288 with 1 Axes>"
            ]
          },
          "metadata": {
            "tags": [],
            "needs_background": "light"
          }
        }
      ]
    },
    {
      "cell_type": "code",
      "metadata": {
        "id": "8rBQ0EJHotkc",
        "colab_type": "code",
        "colab": {
          "base_uri": "https://localhost:8080/",
          "height": 34
        },
        "outputId": "3ae7b9ec-d19d-4bc6-b611-1ac27fb4107d"
      },
      "source": [
        "model.eigenvalues()[-1]"
      ],
      "execution_count": 41,
      "outputs": [
        {
          "output_type": "stream",
          "text": [
            "[-136.309052 -128.99469 -124.084091 ... 128.673523 138.373764 151.214584]\n"
          ],
          "name": "stdout"
        }
      ]
    },
    {
      "cell_type": "code",
      "metadata": {
        "id": "O1cfwnYeLPaG",
        "colab_type": "code",
        "colab": {}
      },
      "source": [
        ""
      ],
      "execution_count": 0,
      "outputs": []
    }
  ]
}