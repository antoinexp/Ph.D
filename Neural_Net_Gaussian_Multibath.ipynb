{
  "nbformat": 4,
  "nbformat_minor": 0,
  "metadata": {
    "colab": {
      "name": "Neural Net Gaussian Multibath",
      "provenance": [],
      "collapsed_sections": [],
      "authorship_tag": "ABX9TyOg0bOEgHrVv8LYOpq9at+X",
      "include_colab_link": true
    },
    "kernelspec": {
      "name": "python3",
      "display_name": "Python 3"
    },
    "accelerator": "GPU"
  },
  "cells": [
    {
      "cell_type": "markdown",
      "metadata": {
        "id": "view-in-github",
        "colab_type": "text"
      },
      "source": [
        "<a href=\"https://colab.research.google.com/github/antoinexp/Ph.D/blob/master/Neural_Net_Gaussian_Multibath.ipynb\" target=\"_parent\"><img src=\"https://colab.research.google.com/assets/colab-badge.svg\" alt=\"Open In Colab\"/></a>"
      ]
    },
    {
      "cell_type": "markdown",
      "metadata": {
        "id": "ktTsbZXNLx6O",
        "colab_type": "text"
      },
      "source": [
        "# Package imports and standard definitions"
      ]
    },
    {
      "cell_type": "code",
      "metadata": {
        "id": "vB1RqHpb5VkL",
        "colab_type": "code",
        "cellView": "code",
        "colab": {
          "base_uri": "https://localhost:8080/",
          "height": 71
        },
        "outputId": "6900d9e6-99d2-4536-aba2-b10265a97a21"
      },
      "source": [
        "#@title \n",
        "%matplotlib inline\n",
        "import matplotlib.pyplot as plt\n",
        "import scipy as sp\n",
        "import numpy as np\n",
        "import pandas as pd\n",
        "from IPython.display import display\n",
        "from IPython.display import clear_output\n",
        "import tensorflow as tf\n",
        "import itertools\n",
        "import seaborn as sns"
      ],
      "execution_count": 2,
      "outputs": [
        {
          "output_type": "stream",
          "text": [
            "/usr/local/lib/python3.6/dist-packages/statsmodels/tools/_testing.py:19: FutureWarning: pandas.util.testing is deprecated. Use the functions in the public API at pandas.testing instead.\n",
            "  import pandas.util.testing as tm\n"
          ],
          "name": "stderr"
        }
      ]
    },
    {
      "cell_type": "code",
      "metadata": {
        "id": "9zRxU7SBJD1j",
        "colab_type": "code",
        "cellView": "code",
        "outputId": "646c3df1-82f5-42d8-ac43-ad3dae7e2604",
        "colab": {
          "base_uri": "https://localhost:8080/",
          "height": 51
        }
      },
      "source": [
        "print(tf.test.gpu_device_name())\n",
        "tf.device('/device:GPU:0')"
      ],
      "execution_count": 3,
      "outputs": [
        {
          "output_type": "stream",
          "text": [
            "/device:GPU:0\n"
          ],
          "name": "stdout"
        },
        {
          "output_type": "execute_result",
          "data": {
            "text/plain": [
              "<tensorflow.python.eager.context._EagerDeviceContext at 0x7f669cb23080>"
            ]
          },
          "metadata": {
            "tags": []
          },
          "execution_count": 3
        }
      ]
    },
    {
      "cell_type": "markdown",
      "metadata": {
        "id": "QDtZedGDPYi3",
        "colab_type": "text"
      },
      "source": [
        "Initializers definition"
      ]
    },
    {
      "cell_type": "code",
      "metadata": {
        "id": "zz9Lyw2mHXf2",
        "colab_type": "code",
        "colab": {}
      },
      "source": [
        "class Initializer:\n",
        "  class normal:\n",
        "    def __call__(self, shape): return tf.random.normal(shape)\n",
        "\n",
        "  class spherical:\n",
        "    def __call__(self, shape):\n",
        "      X = tf.random.normal(shape)\n",
        "      return tf.math.l2_normalize(X, axis=1)"
      ],
      "execution_count": 0,
      "outputs": []
    },
    {
      "cell_type": "markdown",
      "metadata": {
        "id": "xVnVt50jPeEY",
        "colab_type": "text"
      },
      "source": [
        "Model Class"
      ]
    },
    {
      "cell_type": "markdown",
      "metadata": {
        "id": "tERMys07MAYx",
        "colab_type": "text"
      },
      "source": [
        "# Model\n",
        "This section contains the code to implement the $(d \\times N + N \\times 1)$-parameters neural network to fit a function $f$ with:\n",
        "\n",
        "\\begin{equation}\n",
        "    \\hat f_\\Theta : x \\in \\mathbb R^{d} \\mapsto \\sum_{i=1}^N a_i \\sigma\\left( \\frac{x^T \\theta_i}{\\sqrt d} \\right)\n",
        "\\end{equation}\n",
        "\n",
        "For instance, we could have $\\sigma(x,b) = \\text{Relu} (x\\cdot b)$. We define the training risk:\n",
        "\\begin{equation}\n",
        "    R(X, \\Theta) = \\frac{1}{n} \\sum_{i=1}^n (f(X_i) - \\hat f_\\Theta(X_i))^2 \n",
        "\\end{equation}\n",
        "\n",
        "We will consider a random target functions from the class $\\{f_\\beta | \\beta \\in \\mathcal S^d(\\sqrt d) \\}$ where:\n",
        "\\begin{equation}\n",
        "  f_{\\beta_0}(x) = x^T \\beta_0\n",
        "\\end{equation}\n",
        "\n",
        "We have the following process\n",
        "\n",
        "\\begin{equation}\n",
        "\\mathrm d a_i(t) = - \\frac{1}{\\lambda_a} \\partial_{a_i} R(X, \\Theta_t) \\mathrm dt + \\sqrt \\frac{2}{\\lambda_a \\beta_a} \\mathrm  dW^a_t\n",
        "\\end{equation}\n",
        "\n",
        "\\begin{equation}\n",
        "\\mathrm d \\theta_i(t) = - \\frac{1}{\\lambda_\\theta} \\nabla_{\\theta_i} R(X, \\Theta_t) \\mathrm dt + \\sqrt \\frac{2}{\\lambda_\\theta \\beta_\\theta} \\mathrm  dW^\\theta_t\n",
        "\\end{equation}"
      ]
    },
    {
      "cell_type": "code",
      "metadata": {
        "id": "B48a1MEi9Ler",
        "colab_type": "code",
        "colab": {}
      },
      "source": [
        "class Model(tf.Module):\n",
        "  def __init__(self, N, n, d, n_test=None, \n",
        "               _lambda_a=1., \n",
        "               _lambda_theta=1., \n",
        "               _lambda_reg=0.1,\n",
        "               _beta_a=1., \n",
        "               _beta_theta=1., \n",
        "               initializer=Initializer.spherical(), \n",
        "               activation=\"linear\"):\n",
        "    self._lambda_a = _lambda_a\n",
        "    self._lambda_theta = _lambda_theta\n",
        "    self._beta_a = _beta_a\n",
        "    self._beta_theta = _beta_theta\n",
        "    self.initializer = initializer\n",
        "    self.activation = tf.keras.layers.Activation(activation).activation\n",
        "    self._lambda_reg = _lambda_reg\n",
        "\n",
        "    self._N = N\n",
        "    self._n = n\n",
        "    self._d = d\n",
        "\n",
        "    self._a = tf.Variable(self.initializer((1,self._N))[0])\n",
        "    self._theta = tf.Variable((d**0.5)*self.initializer((self._N,d)))\n",
        "\n",
        "    self._beta0 = self.initializer((1,d))[0]\n",
        "    self.X_train = (d**0.5)*self.initializer((n,d))\n",
        "    self.Y_train = tf.tensordot(self.X_train, self._beta0, 1)\n",
        "\n",
        "    self._n_test = n_test\n",
        "    if not n_test: self._n_test = n\n",
        "    self.X_test = (d**0.5)*self.initializer((n_test,d))\n",
        "    self.Y_test = tf.tensordot(self.X_test, self._beta0, 1)\n",
        "\n",
        "\n",
        "  @tf.function\n",
        "  def __call__(self, X):\n",
        "    d = X.shape[1]\n",
        "    W = tf.tensordot(X, tf.transpose(self._theta), 1) / d\n",
        "    Z = (d**0.5)*self.activation(W)\n",
        "    return tf.tensordot(Z, self._a, 1)\n",
        "\n",
        "  @tf.function\n",
        "  def R(self, X, Y, n=None):\n",
        "    error = Y - self(X)\n",
        "    if not n: n = self._n\n",
        "    reg = (self._N/self._d)*self._lambda_reg*(tf.norm(self._a)**2.)\n",
        "    return (1./n)*tf.norm(error)**2. + reg\n",
        "\n",
        "  def R_train(self):\n",
        "    return self.R(self.X_train, self.Y_train, n=self._n)\n",
        "\n",
        "  def R_test(self):\n",
        "    return self.R(self.X_test, self.Y_test, n=self._n_test)\n",
        "\n",
        "\n",
        "  @tf.function\n",
        "  def gradient_a(self):\n",
        "    R = self.R(self.X_train, self.Y_train)\n",
        "    grad_a = tf.gradients(R, self._a)[0]\n",
        "    return grad_a\n",
        "\n",
        "  @tf.function\n",
        "  def learn(self, dt=0.1):\n",
        "    R = self.R(self.X_train, self.Y_train)\n",
        "    grad_a = tf.gradients(R, self._a)[0]\n",
        "    grad_theta = tf.gradients(R, self._theta)[0]\n",
        "\n",
        "    dW_a = tf.random.normal((self._N,))\n",
        "    dW_theta = tf.random.normal((self._N,self._d))\n",
        "\n",
        "    d_a = ((-1./self._lambda_a)*grad_a*dt + \n",
        "      ((2./(self._lambda_a*self._beta_a))**0.5)*(dt**0.5)*dW_a)\n",
        "    d_theta = ((-1./self._lambda_theta)*grad_theta*dt + \n",
        "        ((2./(self._lambda_theta*self._beta_theta))**0.5)*(dt**0.5)*dW_theta)\n",
        "\n",
        "    self._a.assign_add(d_a)\n",
        "    self._theta.assign_add(d_theta)\n",
        "\n",
        "    return self.R_train()\n",
        "\n",
        "  @tf.function\n",
        "  def learn_steps(self, dt=0.1, steps=10):\n",
        "    res = 0.\n",
        "    for _ in tf.range(steps):\n",
        "      res = self.learn(dt)\n",
        "    return res\n",
        "\n",
        "  def learn_epochs(self, dt=0.1, steps=10, epochs=10, callback=None):\n",
        "    history = dict(epoch=[], step=[], train_mse=[], test_mse=[])\n",
        "    for epoch in range(epochs):\n",
        "      history[\"epoch\"].append(epoch)\n",
        "      history[\"step\"].append(epoch*steps)\n",
        "      if epoch==0:\n",
        "        history[\"train_mse\"].append(model.R_train().numpy())\n",
        "      else:\n",
        "        history[\"train_mse\"].append(model.learn_steps(dt, steps).numpy())\n",
        "      history[\"test_mse\"].append(model.R_test().numpy())\n",
        "      if callback:\n",
        "        callback(history)\n",
        "    return history\n",
        "\n",
        "  @tf.function\n",
        "  def set_a_from_least_square_estimator(self, _lambda=0.01):\n",
        "    W = tf.tensordot(self.X_train, tf.transpose(self._theta), 1) / (self._d**0.5)\n",
        "    W = self.activation(W)\n",
        "    Z = tf.tensordot(tf.transpose(W), W, 1)\n",
        "    Z = tf.linalg.pinv(Z + (_lambda*self._N/self._d)*tf.eye(self._N))\n",
        "    Z = tf.tensordot(Z, tf.transpose(W), 1)\n",
        "    Z = tf.tensordot(Z, self.Y_train, 1)\n",
        "    self._a.assign(Z)\n",
        "    return self.R_train()\n"
      ],
      "execution_count": 0,
      "outputs": []
    },
    {
      "cell_type": "code",
      "metadata": {
        "id": "dOKVUL5XHyZM",
        "colab_type": "code",
        "colab": {}
      },
      "source": [
        "def plot_history(history, legend=True):\n",
        "    plt.plot(history[\"step\"], history[\"train_mse\"], label=\"train mse\")\n",
        "    plt.plot(history[\"step\"], history[\"test_mse\"], label=\"test mse\")\n",
        "    plt.xlabel(\"step\")\n",
        "    plt.ylim((0., None))\n",
        "    plt.grid(True)\n",
        "    if legend:\n",
        "      plt.legend()"
      ],
      "execution_count": 0,
      "outputs": []
    },
    {
      "cell_type": "markdown",
      "metadata": {
        "id": "iBLSRPwJMNcI",
        "colab_type": "text"
      },
      "source": [
        "# Example"
      ]
    },
    {
      "cell_type": "code",
      "metadata": {
        "id": "cx5wJf9fKy5O",
        "colab_type": "code",
        "cellView": "form",
        "colab": {}
      },
      "source": [
        "#@title Model Config { run: \"auto\" }\n",
        "config=dict(\n",
        "    activation = \"relu\" #@param [\"linear\", \"relu\", \"tanh\", \"sigmoid\"]\n",
        "    ,\n",
        "    _lambda_a=1. #@param {type:\"number\"}\n",
        "    , \n",
        "    _lambda_theta=1e10 #@param {type:\"number\"}\n",
        "    ,\n",
        "    _beta_a=1e10 #@param {type:\"number\"}\n",
        "    ,\n",
        "    _beta_theta=1e10 #@param {type:\"number\"}\n",
        "    , \n",
        "    _lambda_reg=0. #@param {type:\"number\"}\n",
        "    ,\n",
        "\n",
        "    N=140 #@param {type:\"slider\", min:0, max:400, step:1}\n",
        "    ,\n",
        "    n=140 #@param {type:\"slider\", min:0, max:400, step:1}\n",
        "    , \n",
        "    d=66 #@param {type:\"slider\", min:0, max:400, step:1}\n",
        "    ,\n",
        "    n_test=100 #@param {type:\"slider\", min:0, max:400, step:1}\n",
        "       \n",
        ")\n",
        "\n",
        "runtime_parameters=dict(\n",
        "    dt=0.01 #@param {type:\"number\"}\n",
        "    ,\n",
        "    steps=10 #@param {type:\"number\"}\n",
        "    ,\n",
        "    epochs=1000 #@param {type:\"number\"}\n",
        ")\n",
        "\n"
      ],
      "execution_count": 0,
      "outputs": []
    },
    {
      "cell_type": "code",
      "metadata": {
        "id": "jUjswAErD2hy",
        "colab_type": "code",
        "cellView": "both",
        "outputId": "d177d4c2-5ae6-4ce7-d755-48c90efca095",
        "colab": {
          "base_uri": "https://localhost:8080/",
          "height": 468
        }
      },
      "source": [
        "#@title Run Gradient Descent\n",
        "model = Model(**config)\n",
        "\n",
        "history = model.learn_epochs(**runtime_parameters)\n",
        "\n",
        "plt.figure(figsize=(10,6))\n",
        "plot_history(history)\n",
        "plt.plot()\n",
        "\n",
        "\n",
        "display(pd.DataFrame([list(config.values())], columns=list(config)))\n",
        "print(\"final test error:\", model.R_test().numpy())\n"
      ],
      "execution_count": 35,
      "outputs": [
        {
          "output_type": "display_data",
          "data": {
            "text/html": [
              "<div>\n",
              "<style scoped>\n",
              "    .dataframe tbody tr th:only-of-type {\n",
              "        vertical-align: middle;\n",
              "    }\n",
              "\n",
              "    .dataframe tbody tr th {\n",
              "        vertical-align: top;\n",
              "    }\n",
              "\n",
              "    .dataframe thead th {\n",
              "        text-align: right;\n",
              "    }\n",
              "</style>\n",
              "<table border=\"1\" class=\"dataframe\">\n",
              "  <thead>\n",
              "    <tr style=\"text-align: right;\">\n",
              "      <th></th>\n",
              "      <th>activation</th>\n",
              "      <th>_lambda_a</th>\n",
              "      <th>_lambda_theta</th>\n",
              "      <th>_beta_a</th>\n",
              "      <th>_beta_theta</th>\n",
              "      <th>_lambda_reg</th>\n",
              "      <th>N</th>\n",
              "      <th>n</th>\n",
              "      <th>d</th>\n",
              "      <th>n_test</th>\n",
              "    </tr>\n",
              "  </thead>\n",
              "  <tbody>\n",
              "    <tr>\n",
              "      <th>0</th>\n",
              "      <td>relu</td>\n",
              "      <td>1.0</td>\n",
              "      <td>1.000000e+10</td>\n",
              "      <td>1.000000e+10</td>\n",
              "      <td>1.000000e+10</td>\n",
              "      <td>0.0</td>\n",
              "      <td>140</td>\n",
              "      <td>140</td>\n",
              "      <td>66</td>\n",
              "      <td>100</td>\n",
              "    </tr>\n",
              "  </tbody>\n",
              "</table>\n",
              "</div>"
            ],
            "text/plain": [
              "  activation  _lambda_a  _lambda_theta       _beta_a  ...    N    n   d  n_test\n",
              "0       relu        1.0   1.000000e+10  1.000000e+10  ...  140  140  66     100\n",
              "\n",
              "[1 rows x 10 columns]"
            ]
          },
          "metadata": {
            "tags": []
          }
        },
        {
          "output_type": "stream",
          "text": [
            "final test error: 1.0831217\n"
          ],
          "name": "stdout"
        },
        {
          "output_type": "display_data",
          "data": {
            "image/png": "[encoded data removed]",
            "text/plain": [
              "<Figure size 720x432 with 1 Axes>"
            ]
          },
          "metadata": {
            "tags": [],
            "needs_background": "light"
          }
        }
      ]
    },
    {
      "cell_type": "code",
      "metadata": {
        "id": "CGkc6m1fziwL",
        "colab_type": "code",
        "cellView": "form",
        "outputId": "8014ea4b-5b50-43d1-e6f2-bdf87346ba18",
        "colab": {
          "base_uri": "https://localhost:8080/",
          "height": 265
        }
      },
      "source": [
        "#@title \"a\" distribution\n",
        "plt.hist(model._a.numpy(), bins=20, range=(-1,1))\n",
        "plt.grid()"
      ],
      "execution_count": 0,
      "outputs": [
        {
          "output_type": "display_data",
          "data": {
            "image/png": "[encoded data removed]",
            "text/plain": [
              "<Figure size 432x288 with 1 Axes>"
            ]
          },
          "metadata": {
            "tags": [],
            "needs_background": "light"
          }
        }
      ]
    },
    {
      "cell_type": "code",
      "metadata": {
        "id": "oO1Z_Hy36bKK",
        "colab_type": "code",
        "cellView": "form",
        "outputId": "0de37bf3-b66d-4c1e-8f8d-12d0ad571fa6",
        "colab": {
          "base_uri": "https://localhost:8080/",
          "height": 265
        }
      },
      "source": [
        "#@title ||theta|| distribution\n",
        "data = tf.norm(model._theta/(model._d**0.5), axis=1).numpy()\n",
        "plt.hist(data, bins=20, range=(0, 1.5))\n",
        "plt.grid()"
      ],
      "execution_count": 0,
      "outputs": [
        {
          "output_type": "display_data",
          "data": {
            "image/png": "[encoded data removed]",
            "text/plain": [
              "<Figure size 432x288 with 1 Axes>"
            ]
          },
          "metadata": {
            "tags": [],
            "needs_background": "light"
          }
        }
      ]
    },
    {
      "cell_type": "code",
      "metadata": {
        "id": "UNnQuT-S8gL7",
        "colab_type": "code",
        "cellView": "form",
        "outputId": "0df99962-7a0b-40da-a5b7-2e6a14ae3750",
        "colab": {
          "base_uri": "https://localhost:8080/",
          "height": 265
        }
      },
      "source": [
        "#@title <theta_i, beta0> distribution\n",
        "data = tf.tensordot(model._theta/(model._d**0.5), model._beta0, 1).numpy()\n",
        "plt.hist(data, bins=20, range=(-1.,1.))\n",
        "plt.grid(True)"
      ],
      "execution_count": 0,
      "outputs": [
        {
          "output_type": "display_data",
          "data": {
            "image/png": "[encoded data removed]",
            "text/plain": [
              "<Figure size 432x288 with 1 Axes>"
            ]
          },
          "metadata": {
            "tags": [],
            "needs_background": "light"
          }
        }
      ]
    },
    {
      "cell_type": "code",
      "metadata": {
        "id": "DqyhD0BxAz6t",
        "colab_type": "code",
        "cellView": "form",
        "outputId": "b110e3c9-1c26-4b62-baa0-3c7e96f1a80a",
        "colab": {
          "base_uri": "https://localhost:8080/",
          "height": 34
        }
      },
      "source": [
        "#@title cosine distance between 'average beta' and beta0\n",
        "avg_beta = tf.tensordot(tf.transpose(model._theta), model._a, 1)/(model._d**0.5)\n",
        "data = tf.tensordot(model._beta0/tf.norm(model._beta0), avg_beta/tf.norm(avg_beta), 1)\n",
        "print(data.numpy())"
      ],
      "execution_count": 0,
      "outputs": [
        {
          "output_type": "stream",
          "text": [
            "0.3206056\n"
          ],
          "name": "stdout"
        }
      ]
    },
    {
      "cell_type": "code",
      "metadata": {
        "id": "ODUZB0_FCr8O",
        "colab_type": "code",
        "colab": {}
      },
      "source": [
        "l = []\n",
        "for _ in range(50):\n",
        "  model = Model(**config)\n",
        "  model.set_a_from_least_square_estimator(1e-6)\n",
        "  l.append(dict(\n",
        "      train_mse=model.R_train().numpy(),\n",
        "      test_mse=model.R_test().numpy()\n",
        "  ))\n",
        "df = pd.DataFrame(l)"
      ],
      "execution_count": 0,
      "outputs": []
    },
    {
      "cell_type": "code",
      "metadata": {
        "id": "cho2t7XQuCcX",
        "colab_type": "code",
        "outputId": "62bb7d38-94cd-41e6-8943-06d43e763d6b",
        "colab": {
          "base_uri": "https://localhost:8080/",
          "height": 297
        }
      },
      "source": [
        "df.describe()"
      ],
      "execution_count": 0,
      "outputs": [
        {
          "output_type": "execute_result",
          "data": {
            "text/html": [
              "<div>\n",
              "<style scoped>\n",
              "    .dataframe tbody tr th:only-of-type {\n",
              "        vertical-align: middle;\n",
              "    }\n",
              "\n",
              "    .dataframe tbody tr th {\n",
              "        vertical-align: top;\n",
              "    }\n",
              "\n",
              "    .dataframe thead th {\n",
              "        text-align: right;\n",
              "    }\n",
              "</style>\n",
              "<table border=\"1\" class=\"dataframe\">\n",
              "  <thead>\n",
              "    <tr style=\"text-align: right;\">\n",
              "      <th></th>\n",
              "      <th>train_mse</th>\n",
              "      <th>test_mse</th>\n",
              "    </tr>\n",
              "  </thead>\n",
              "  <tbody>\n",
              "    <tr>\n",
              "      <th>count</th>\n",
              "      <td>50.000000</td>\n",
              "      <td>50.000000</td>\n",
              "    </tr>\n",
              "    <tr>\n",
              "      <th>mean</th>\n",
              "      <td>0.010444</td>\n",
              "      <td>3.758690</td>\n",
              "    </tr>\n",
              "    <tr>\n",
              "      <th>std</th>\n",
              "      <td>0.009055</td>\n",
              "      <td>2.015198</td>\n",
              "    </tr>\n",
              "    <tr>\n",
              "      <th>min</th>\n",
              "      <td>0.000663</td>\n",
              "      <td>1.197066</td>\n",
              "    </tr>\n",
              "    <tr>\n",
              "      <th>25%</th>\n",
              "      <td>0.004001</td>\n",
              "      <td>2.527775</td>\n",
              "    </tr>\n",
              "    <tr>\n",
              "      <th>50%</th>\n",
              "      <td>0.007510</td>\n",
              "      <td>3.243391</td>\n",
              "    </tr>\n",
              "    <tr>\n",
              "      <th>75%</th>\n",
              "      <td>0.013425</td>\n",
              "      <td>4.337146</td>\n",
              "    </tr>\n",
              "    <tr>\n",
              "      <th>max</th>\n",
              "      <td>0.041037</td>\n",
              "      <td>12.210058</td>\n",
              "    </tr>\n",
              "  </tbody>\n",
              "</table>\n",
              "</div>"
            ],
            "text/plain": [
              "       train_mse   test_mse\n",
              "count  50.000000  50.000000\n",
              "mean    0.010444   3.758690\n",
              "std     0.009055   2.015198\n",
              "min     0.000663   1.197066\n",
              "25%     0.004001   2.527775\n",
              "50%     0.007510   3.243391\n",
              "75%     0.013425   4.337146\n",
              "max     0.041037  12.210058"
            ]
          },
          "metadata": {
            "tags": []
          },
          "execution_count": 16
        }
      ]
    },
    {
      "cell_type": "markdown",
      "metadata": {
        "id": "KYnLXrbmLt5B",
        "colab_type": "text"
      },
      "source": [
        "# MSE Horizon"
      ]
    },
    {
      "cell_type": "code",
      "metadata": {
        "id": "cLgcHEb82e7L",
        "colab_type": "code",
        "cellView": "form",
        "colab": {}
      },
      "source": [
        "#@title Base Config { run: \"auto\" }\n",
        "config=dict(\n",
        "    activation = \"relu\" #@param [\"linear\", \"relu\", \"tanh\", \"sigmoid\"]\n",
        "    ,\n",
        "    _lambda_a=1. #@param {type:\"number\"}\n",
        "    , \n",
        "    _lambda_theta=1e10 #@param {type:\"number\"}\n",
        "    ,\n",
        "    _beta_a=1e10 #@param {type:\"number\"}\n",
        "    ,\n",
        "    _beta_theta=1e10 #@param {type:\"number\"}\n",
        "    , \n",
        "    _lambda_reg=0. #@param {type:\"number\"}\n",
        "    ,\n",
        "    n=150 #@param {type:\"slider\", min:0, max:400, step:1}\n",
        "    , \n",
        "    d=50 #@param {type:\"slider\", min:0, max:400, step:1}\n",
        "    ,\n",
        "    n_test=100 #@param {type:\"slider\", min:0, max:400, step:1}\n",
        "       \n",
        ")\n",
        "\n",
        "runtime_parameters=dict(\n",
        "    dt=0.01 #@param {type:\"number\"}\n",
        "    ,\n",
        "    steps=30000 #@param {type:\"number\"}\n",
        "    ,\n",
        "    epochs=2\n",
        ")\n"
      ],
      "execution_count": 0,
      "outputs": []
    },
    {
      "cell_type": "code",
      "metadata": {
        "id": "-ZkgYmWeQyGf",
        "colab_type": "code",
        "colab": {}
      },
      "source": [
        "N_n_range = np.linspace(0.1, 2., 15)\n",
        "N_samples = 5"
      ],
      "execution_count": 0,
      "outputs": []
    },
    {
      "cell_type": "code",
      "metadata": {
        "id": "Yi8aTT8WPo5D",
        "colab_type": "code",
        "outputId": "985a0f81-2e9c-437e-81eb-84e4f3d559e2",
        "colab": {
          "base_uri": "https://localhost:8080/",
          "height": 34
        }
      },
      "source": [
        "l = []\n",
        "for i,N_n in itertools.product(range(N_samples), N_n_range):\n",
        "  print(i, N_n)\n",
        "  config[\"N\"] = int(config[\"n\"]*N_n)\n",
        "\n",
        "  model = Model(**config)\n",
        "  history = model.learn_epochs(**runtime_parameters)\n",
        "\n",
        "  l.append(\n",
        "      dict(\n",
        "          i=i,\n",
        "          test_mse=history[\"test_mse\"][-1],\n",
        "          train_mse=history[\"train_mse\"][-1],\n",
        "          **config\n",
        "      )\n",
        "  )\n",
        "clear_output()\n",
        "print(\"done\")"
      ],
      "execution_count": 46,
      "outputs": [
        {
          "output_type": "stream",
          "text": [
            "done\n"
          ],
          "name": "stdout"
        }
      ]
    },
    {
      "cell_type": "code",
      "metadata": {
        "id": "zuKA0P9DP8AL",
        "colab_type": "code",
        "colab": {}
      },
      "source": [
        "df = pd.DataFrame(l)\n",
        "df[\"N_n\"] = df[\"N\"]/df[\"n\"]"
      ],
      "execution_count": 0,
      "outputs": []
    },
    {
      "cell_type": "code",
      "metadata": {
        "id": "PdDWD-Og1dkM",
        "colab_type": "code",
        "outputId": "cee8ef41-a321-477b-ad76-0c4e7c94a6df",
        "colab": {
          "base_uri": "https://localhost:8080/",
          "height": 297
        }
      },
      "source": [
        "sns.lineplot(x=\"N_n\", y=\"train_mse\", data=df, label=\"train_mse\")\n",
        "sns.lineplot(x=\"N_n\", y=\"test_mse\", data=df, label=\"test_mse\")"
      ],
      "execution_count": 48,
      "outputs": [
        {
          "output_type": "execute_result",
          "data": {
            "text/plain": [
              "<matplotlib.axes._subplots.AxesSubplot at 0x7f65d7b9a128>"
            ]
          },
          "metadata": {
            "tags": []
          },
          "execution_count": 48
        },
        {
          "output_type": "display_data",
          "data": {
            "image/png": "[encoded data removed]",
            "text/plain": [
              "<Figure size 432x288 with 1 Axes>"
            ]
          },
          "metadata": {
            "tags": [],
            "needs_background": "light"
          }
        }
      ]
    },
    {
      "cell_type": "code",
      "metadata": {
        "id": "Ajj2u546kDlk",
        "colab_type": "code",
        "outputId": "6c58062b-8304-47e4-d202-8d8af53cb665",
        "colab": {
          "base_uri": "https://localhost:8080/",
          "height": 297
        }
      },
      "source": [
        "sns.lineplot(x=\"N_n\", y=\"train_mse\", data=df, label=\"train_mse\")\n",
        "sns.lineplot(x=\"N_n\", y=\"test_mse\", data=df, label=\"test_mse\")"
      ],
      "execution_count": 0,
      "outputs": [
        {
          "output_type": "execute_result",
          "data": {
            "text/plain": [
              "<matplotlib.axes._subplots.AxesSubplot at 0x7fa5016a09b0>"
            ]
          },
          "metadata": {
            "tags": []
          },
          "execution_count": 115
        },
        {
          "output_type": "display_data",
          "data": {
            "image/png": "[encoded data removed]",
            "text/plain": [
              "<Figure size 432x288 with 1 Axes>"
            ]
          },
          "metadata": {
            "tags": [],
            "needs_background": "light"
          }
        }
      ]
    },
    {
      "cell_type": "code",
      "metadata": {
        "id": "kF0Tbxc2k7eN",
        "colab_type": "code",
        "colab": {}
      },
      "source": [
        ""
      ],
      "execution_count": 0,
      "outputs": []
    }
  ]
}