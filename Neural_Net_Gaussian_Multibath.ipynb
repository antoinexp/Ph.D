{
  "nbformat": 4,
  "nbformat_minor": 0,
  "metadata": {
    "colab": {
      "name": "Neural Net Gaussian Multibath",
      "provenance": [],
      "collapsed_sections": [],
      "authorship_tag": "ABX9TyNzFuYhFma8gFgv58sqFSTo",
      "include_colab_link": true
    },
    "kernelspec": {
      "name": "python3",
      "display_name": "Python 3"
    }
  },
  "cells": [
    {
      "cell_type": "markdown",
      "metadata": {
        "id": "view-in-github",
        "colab_type": "text"
      },
      "source": [
        "<a href=\"https://colab.research.google.com/github/antoinexp/Ph.D/blob/master/Neural_Net_Gaussian_Multibath.ipynb\" target=\"_parent\"><img src=\"https://colab.research.google.com/assets/colab-badge.svg\" alt=\"Open In Colab\"/></a>"
      ]
    },
    {
      "cell_type": "markdown",
      "metadata": {
        "id": "ktTsbZXNLx6O",
        "colab_type": "text"
      },
      "source": [
        "# Package imports and standard definitions"
      ]
    },
    {
      "cell_type": "code",
      "metadata": {
        "id": "vB1RqHpb5VkL",
        "colab_type": "code",
        "cellView": "code",
        "colab": {}
      },
      "source": [
        "#@title \n",
        "%matplotlib inline\n",
        "import matplotlib.pyplot as plt\n",
        "import scipy as sp\n",
        "import numpy as np\n",
        "import tensorflow as tf"
      ],
      "execution_count": 0,
      "outputs": []
    },
    {
      "cell_type": "code",
      "metadata": {
        "id": "9zRxU7SBJD1j",
        "colab_type": "code",
        "cellView": "code",
        "colab": {}
      },
      "source": [
        "#@title Titre par défaut\n",
        "#print(tf.test.gpu_device_name())\n",
        "#tf.device('/device:GPU:0')"
      ],
      "execution_count": 0,
      "outputs": []
    },
    {
      "cell_type": "markdown",
      "metadata": {
        "id": "QDtZedGDPYi3",
        "colab_type": "text"
      },
      "source": [
        "Initializers definition"
      ]
    },
    {
      "cell_type": "code",
      "metadata": {
        "id": "zz9Lyw2mHXf2",
        "colab_type": "code",
        "colab": {}
      },
      "source": [
        "class Initializer:\n",
        "  class normal:\n",
        "    def __call__(self, shape): return tf.random.normal(shape)\n",
        "\n",
        "  class spherical:\n",
        "    def __call__(self, shape):\n",
        "      X = tf.random.normal(shape)\n",
        "      return tf.math.l2_normalize(X, axis=1)"
      ],
      "execution_count": 0,
      "outputs": []
    },
    {
      "cell_type": "markdown",
      "metadata": {
        "id": "xVnVt50jPeEY",
        "colab_type": "text"
      },
      "source": [
        "Model Class"
      ]
    },
    {
      "cell_type": "markdown",
      "metadata": {
        "id": "tERMys07MAYx",
        "colab_type": "text"
      },
      "source": [
        "# Model\n",
        "This section contains the code to implement the $N \\times d \\times n$-parameters neural network to fit a function $f$ with:\n",
        "\n",
        "\\begin{equation}\n",
        "    \\hat f_\\Theta : x \\in \\mathbb R^{d} \\mapsto \\sum_{i=1}^N a_i \\sigma\\left( \\frac{x^T \\theta_i}{\\sqrt d} \\right)\n",
        "\\end{equation}\n",
        "\n",
        "For instance, we could have $\\sigma(x,b) = \\text{Relu} (x\\cdot b)$. We define the training risk:\n",
        "\\begin{equation}\n",
        "    R(X, \\Theta) = \\frac{1}{n} \\sum_{i=1}^n (f(X_i) - \\hat f_\\Theta(X_i))^2 \n",
        "\\end{equation}\n",
        "\n",
        "We have the following process\n",
        "\n",
        "\\begin{equation}\n",
        "\\mathrm d a_i(t) = - \\frac{1}{\\lambda_a} \\partial_{a_i} R(X, \\Theta_t) \\mathrm dt + \\sqrt \\frac{2}{\\lambda_a \\beta_a} \\mathrm  dW^a_t\n",
        "\\end{equation}\n",
        "\n",
        "\\begin{equation}\n",
        "\\mathrm d \\theta_i(t) = - \\frac{1}{\\lambda_\\theta} \\nabla_{\\theta_i} R(X, \\Theta_t) \\mathrm dt + \\sqrt \\frac{2}{\\lambda_\\theta \\beta_\\theta} \\mathrm  dW^\\theta_t\n",
        "\\end{equation}"
      ]
    },
    {
      "cell_type": "code",
      "metadata": {
        "id": "B48a1MEi9Ler",
        "colab_type": "code",
        "colab": {}
      },
      "source": [
        "class Model(tf.Module):\n",
        "  def __init__(self, N, n, d, n_test=None, \n",
        "               _lambda_a=1., \n",
        "               _lambda_theta=1., \n",
        "               _beta_a=1., \n",
        "               _beta_theta=1., \n",
        "               initializer=Initializer.spherical(), \n",
        "               activation=\"linear\"):\n",
        "    self._lambda_a = _lambda_a\n",
        "    self._lambda_theta = _lambda_theta\n",
        "    self._beta_a = _beta_a\n",
        "    self._beta_theta = _beta_theta\n",
        "    self.initializer = initializer\n",
        "    self.activation = tf.keras.layers.Activation(activation).activation\n",
        "  \n",
        "    self._N = N\n",
        "    self._n = n\n",
        "    self._d = d\n",
        "\n",
        "    self._a = tf.Variable(self.initializer((1,self._N))[0])\n",
        "    self._theta = tf.Variable((d**0.5)*self.initializer((self._N,d)))\n",
        "\n",
        "    self._beta0 = self.initializer((1,d))[0]\n",
        "    self.X_train = (d**0.5)*self.initializer((n,d))\n",
        "    self.Y_train = tf.tensordot(self.X_train, self._beta0, 1)\n",
        "\n",
        "    self._n_test = n_test\n",
        "    if not n_test: self._n_test = n\n",
        "    self.X_test = (d**0.5)*self.initializer((n_test,d))\n",
        "    self.Y_test = tf.tensordot(self.X_test, self._beta0, 1)\n",
        "\n",
        "\n",
        "  @tf.function\n",
        "  def __call__(self, X):\n",
        "    d = X.shape[1]\n",
        "    W = tf.tensordot(X, tf.transpose(self._theta), 1) / (d**0.5)\n",
        "    Z = self.activation(W)\n",
        "    return tf.tensordot(Z, self._a, 1)\n",
        "\n",
        "  @tf.function\n",
        "  def R(self, X, Y, n=None):\n",
        "    error = Y - self(X)\n",
        "    if not n: n = self._n\n",
        "    return (1./n)*tf.norm(error, ord=\"euclidean\")**2.\n",
        "\n",
        "  def R_train(self):\n",
        "    return self.R(self.X_train, self.Y_train, n=self._n)\n",
        "\n",
        "  def R_test(self):\n",
        "    return self.R(self.X_test, self.Y_test, n=self._n_test)\n",
        "\n",
        "  @tf.function\n",
        "  def learn(self, dt=0.1):\n",
        "    R = self.R(self.X_train, self.Y_train)\n",
        "    grad_a = tf.gradients(R, self._a)[0]\n",
        "    grad_theta = tf.gradients(R, self._theta)[0]\n",
        "\n",
        "    dW_a = tf.random.normal((self._N,))\n",
        "    dW_theta = tf.random.normal((self._N,self._d))\n",
        "\n",
        "    d_a = ((-1./self._lambda_a)*grad_a*dt + \n",
        "      ((2./(self._lambda_a*self._beta_a))**0.5)*(dt**0.5)*dW_a)\n",
        "    d_theta = ((-1./self._lambda_theta)*grad_theta*dt + \n",
        "        ((2./(self._lambda_theta*self._beta_theta))**0.5)*(dt**0.5)*dW_theta)\n",
        "\n",
        "    #tf.print(tf.norm(d_a), tf.norm(d_theta))\n",
        "\n",
        "    self._a.assign_add(d_a)\n",
        "    self._theta.assign_add(d_theta)\n",
        "\n",
        "    return self.R_train()\n",
        "\n",
        "  @tf.function\n",
        "  def learn_steps(self, dt=0.1, steps=10):\n",
        "    res = 0.\n",
        "    for _ in range(steps):\n",
        "      res = self.learn(dt)\n",
        "    return res\n",
        "\n",
        "  def learn_epochs(self, dt=0.1, steps=10, epochs=10):\n",
        "    history = dict(epoch=[], step=[], train_mse=[], test_mse=[])\n",
        "    for epoch in range(epochs):\n",
        "      history[\"epoch\"].append(epoch)\n",
        "      history[\"step\"].append(epoch*steps)\n",
        "      if epoch==0:\n",
        "        history[\"train_mse\"].append(model.R_train().numpy())\n",
        "      else:\n",
        "        history[\"train_mse\"].append(model.learn_steps(dt, steps).numpy())\n",
        "      history[\"test_mse\"].append(model.R_test().numpy())\n",
        "    return history\n",
        "\n",
        "  @tf.function\n",
        "  def set_a_from_least_square_estimator(self, _lambda=0.01):\n",
        "    W = tf.tensordot(self.X_train, tf.transpose(self._theta), 1) / (self._d**0.5)\n",
        "    W = self.activation(W)\n",
        "    Z = tf.tensordot(tf.transpose(W), W, 1)\n",
        "    Z = tf.linalg.pinv(Z + (_lambda*self._N/self._d)*tf.eye(self._N))\n",
        "    Z = tf.tensordot(Z, tf.transpose(W), 1)\n",
        "    Z = tf.tensordot(Z, self.Y_train, 1)\n",
        "    self._a.assign(Z)\n",
        "    return self.R_train()\n"
      ],
      "execution_count": 0,
      "outputs": []
    },
    {
      "cell_type": "code",
      "metadata": {
        "id": "dOKVUL5XHyZM",
        "colab_type": "code",
        "colab": {}
      },
      "source": [
        "def plot_history(history, legend=True):\n",
        "    plt.plot(history[\"step\"], history[\"train_mse\"], label=\"train mse\")\n",
        "    plt.plot(history[\"step\"], history[\"test_mse\"], label=\"test mse\")\n",
        "    plt.xlabel(\"step\")\n",
        "    plt.ylim((0., None))\n",
        "    plt.grid(True)\n",
        "    if legend:\n",
        "      plt.legend()"
      ],
      "execution_count": 0,
      "outputs": []
    },
    {
      "cell_type": "markdown",
      "metadata": {
        "id": "iBLSRPwJMNcI",
        "colab_type": "text"
      },
      "source": [
        "# Example"
      ]
    },
    {
      "cell_type": "code",
      "metadata": {
        "id": "cx5wJf9fKy5O",
        "colab_type": "code",
        "cellView": "form",
        "colab": {
          "base_uri": "https://localhost:8080/",
          "height": 71
        },
        "outputId": "d3b030dd-f49a-44bb-a58d-12c1445d4682"
      },
      "source": [
        "#@title Model Config { run: \"auto\" }\n",
        "config=dict(\n",
        "    activation = \"linear\" #@param [\"linear\", \"relu\", \"tanh\", \"sigmoid\"]\n",
        "    ,\n",
        "    _lambda_a=1 #@param {type:\"number\"}\n",
        "    , \n",
        "    _lambda_theta=1E20 #@param {type:\"number\"}\n",
        "    ,\n",
        "    _beta_a=1E10 #@param {type:\"number\"}\n",
        "    ,\n",
        "    _beta_theta=1E10 #@param {type:\"number\"}\n",
        "    , \n",
        "\n",
        "    N=58 #@param {type:\"slider\", min:0, max:400, step:1}\n",
        "    ,\n",
        "    n=100 #@param {type:\"slider\", min:0, max:400, step:1}\n",
        "    , \n",
        "    d=74 #@param {type:\"slider\", min:0, max:400, step:1}\n",
        "    ,\n",
        "    n_test=100 #@param {type:\"slider\", min:0, max:400, step:1} \n",
        ")\n",
        "\n",
        "runtime_parameters=dict(\n",
        "    dt=0.1 #@param {type:\"number\"}\n",
        "    ,\n",
        "    steps=5 #@param {type:\"number\"}\n",
        "    ,\n",
        "    epochs=100 #@param {type:\"number\"}\n",
        ")\n",
        "\n",
        "print(config)\n",
        "print(runtime_parameters)"
      ],
      "execution_count": 188,
      "outputs": [
        {
          "output_type": "stream",
          "text": [
            "{'activation': 'linear', '_lambda_a': 1, '_lambda_theta': 1e+20, '_beta_a': 10000000000.0, '_beta_theta': 10000000000.0, 'N': 58, 'n': 100, 'd': 74, 'n_test': 100}\n",
            "{'dt': 0.1, 'steps': 5, 'epochs': 100}\n"
          ],
          "name": "stdout"
        }
      ]
    },
    {
      "cell_type": "code",
      "metadata": {
        "id": "jUjswAErD2hy",
        "colab_type": "code",
        "cellView": "form",
        "outputId": "89d09b22-20bc-451f-90c0-1e7c8c93f930",
        "colab": {
          "base_uri": "https://localhost:8080/",
          "height": 422
        }
      },
      "source": [
        "#@title Run Gradient Descent\n",
        "model = Model(**config)\n",
        "history = model.learn_epochs(**runtime_parameters)\n",
        "plt.figure(figsize=(10,6))\n",
        "plot_history(history)\n",
        "print(f\"results for N={config['N']}, n={config['n']}, d={config['d']}\")\n",
        "print(\"final test error:\", model.R_test().numpy())"
      ],
      "execution_count": 189,
      "outputs": [
        {
          "output_type": "stream",
          "text": [
            "results for N=58, n=100, d=74\n",
            "final test error: 0.431589\n"
          ],
          "name": "stdout"
        },
        {
          "output_type": "display_data",
          "data": {
            "image/png": "[encoded data removed]",
            "text/plain": [
              "<Figure size 720x432 with 1 Axes>"
            ]
          },
          "metadata": {
            "tags": [],
            "needs_background": "light"
          }
        }
      ]
    },
    {
      "cell_type": "code",
      "metadata": {
        "id": "CGkc6m1fziwL",
        "colab_type": "code",
        "colab": {
          "base_uri": "https://localhost:8080/",
          "height": 265
        },
        "cellView": "form",
        "outputId": "7c97b936-fbad-4ab4-b592-fa9813d6f760"
      },
      "source": [
        "#@title \"a\" distribution\n",
        "plt.hist(model._a.numpy(), bins=20, range=(-1,1))\n",
        "plt.grid()"
      ],
      "execution_count": 190,
      "outputs": [
        {
          "output_type": "display_data",
          "data": {
            "image/png": "[encoded data removed]",
            "text/plain": [
              "<Figure size 432x288 with 1 Axes>"
            ]
          },
          "metadata": {
            "tags": [],
            "needs_background": "light"
          }
        }
      ]
    },
    {
      "cell_type": "code",
      "metadata": {
        "id": "oO1Z_Hy36bKK",
        "colab_type": "code",
        "colab": {
          "base_uri": "https://localhost:8080/",
          "height": 266
        },
        "cellView": "form",
        "outputId": "526f3eda-aa58-489b-a723-312c29c7a141"
      },
      "source": [
        "#@title ||theta|| distribution\n",
        "data = tf.norm(model._theta/(model._d**0.5), axis=1).numpy()\n",
        "plt.hist(data, bins=20, range=(0, 1.5))\n",
        "plt.grid()"
      ],
      "execution_count": 191,
      "outputs": [
        {
          "output_type": "display_data",
          "data": {
            "image/png": "[encoded data removed]",
            "text/plain": [
              "<Figure size 432x288 with 1 Axes>"
            ]
          },
          "metadata": {
            "tags": [],
            "needs_background": "light"
          }
        }
      ]
    },
    {
      "cell_type": "code",
      "metadata": {
        "id": "UNnQuT-S8gL7",
        "colab_type": "code",
        "colab": {
          "base_uri": "https://localhost:8080/",
          "height": 265
        },
        "cellView": "form",
        "outputId": "399bedd8-24ee-49ed-93fa-2c80b98bec9b"
      },
      "source": [
        "#@title <theta_i, beta0> distribution\n",
        "data = tf.tensordot(model._theta/(model._d**0.5), model._beta0, 1).numpy()\n",
        "plt.hist(data, bins=20, range=(-1.,1.))\n",
        "plt.grid(True)"
      ],
      "execution_count": 195,
      "outputs": [
        {
          "output_type": "display_data",
          "data": {
            "image/png": "[encoded data removed]",
            "text/plain": [
              "<Figure size 432x288 with 1 Axes>"
            ]
          },
          "metadata": {
            "tags": [],
            "needs_background": "light"
          }
        }
      ]
    },
    {
      "cell_type": "code",
      "metadata": {
        "id": "DqyhD0BxAz6t",
        "colab_type": "code",
        "colab": {
          "base_uri": "https://localhost:8080/",
          "height": 34
        },
        "cellView": "form",
        "outputId": "ccb84f06-aea5-4fc9-daa2-8fc74da407fc"
      },
      "source": [
        "#@title cosine distance between 'average beta' and beta0\n",
        "avg_beta = tf.tensordot(tf.transpose(model._theta), model._a, 1)/(model._d**0.5)\n",
        "data = tf.tensordot(model._beta0/tf.norm(model._beta0), avg_beta/tf.norm(avg_beta), 1)\n",
        "print(data.numpy())"
      ],
      "execution_count": 196,
      "outputs": [
        {
          "output_type": "stream",
          "text": [
            "0.79679817\n"
          ],
          "name": "stdout"
        }
      ]
    },
    {
      "cell_type": "code",
      "metadata": {
        "id": "ODUZB0_FCr8O",
        "colab_type": "code",
        "colab": {}
      },
      "source": [
        ""
      ],
      "execution_count": 0,
      "outputs": []
    }
  ]
}